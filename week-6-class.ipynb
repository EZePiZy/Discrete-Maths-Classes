{
 "cells": [
  {
   "cell_type": "markdown",
   "metadata": {},
   "source": [
    "The advertising company \"Greedy Oligarchs & Other Grubby Lowdown Evildoers\" has $n$ clients and wants to maximise their revenues before their initial public offering in $T$ days. They decide to concentrate each day on a single advertising campaign for a single client. For example, on day 1 they might advertise for client 3, on day 2 for client 7 and day 3 back to client 3 again. Some clients are bigger than others and so make more money, but repeatedly advertising for the same clients has diminishing returns. The first day of advertising for client $i$ they will make $c_i$. The second day of advertising for the same client, $c_i/2$, the third day $c_i/4$ and so on, at day $k$ for client $i$ they will make $c_i/2^k$, so it might make sense for them to advertise one day with one client, and then another day with another client, and so on.\n",
    "\n",
    "1. Devise a greedy algorithm to maximise their profit, but do not worry about efficiency of your program for the moment. Describe your program in words.\n",
    "\n",
    "2. Prove that the greedy choice property holds.\n",
    "\n",
    "3. What is the complexity of your algorithm?\n",
    "\n",
    "4. (optional) Look up the [Fibonacci heap priority queue](https://en.wikipedia.org/wiki/Fibonacci_heap). Use this to improve your algorithm. Write code or pseudocode, and compute the complexity of your algorithm. Find a solution when ``c=[2, 3, 5]`` and ``T=10``."
   ]
  },
  {
   "cell_type": "code",
   "execution_count": 19,
   "metadata": {},
   "outputs": [
    {
     "name": "stdout",
     "output_type": "stream",
     "text": [
      "The best total revenue using a Greedy Algoritm is: 47.75$\n"
     ]
    }
   ],
   "source": [
    "def greedy_adv(clients, T):\n",
    "    revenue = 0\n",
    "\n",
    "    for i in range(T):\n",
    "        # Only activate this condition if performing floor / ceiling division in the last step\n",
    "        if all(item == 0 for item in clients): \n",
    "            return 'Greedy Algorithm terminated at iteration ' + str(i) + ' because all the clients revenue are 0, the final revenue is: ' + str(revenue)\n",
    "        else: \n",
    "            best_client = max(clients)\n",
    "            revenue += best_client\n",
    "            # print(\"The best client at iteration \" + str(i) + \"is \")\n",
    "            # print(best_client)\n",
    "            index = clients.index(best_client)\n",
    "            clients[index] = best_client / 2\n",
    "    \n",
    "    return 'The best total revenue using a Greedy Algoritm is: ' + str(revenue) + '$'\n",
    "\n",
    "\n",
    "\n",
    "client = [2, 3, 5, 10, 4, 9]\n",
    "\n",
    "print(greedy_adv(client, 10))\n",
    "    \n",
    "    \n",
    "   \n",
    "    \n",
    "    "
   ]
  }
 ],
 "metadata": {
  "kernelspec": {
   "display_name": "Python 3.10.6 ('Imperial_Signals_Systems')",
   "language": "python",
   "name": "python3"
  },
  "language_info": {
   "codemirror_mode": {
    "name": "ipython",
    "version": 3
   },
   "file_extension": ".py",
   "mimetype": "text/x-python",
   "name": "python",
   "nbconvert_exporter": "python",
   "pygments_lexer": "ipython3",
   "version": "3.10.6"
  },
  "vscode": {
   "interpreter": {
    "hash": "34c76159c9d90541ca684fa006432c5d5b98e57bc9a54928f8137cf13864b77b"
   }
  }
 },
 "nbformat": 4,
 "nbformat_minor": 4
}
