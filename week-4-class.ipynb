{
 "cells": [
  {
   "cell_type": "markdown",
   "id": "fee8644f",
   "metadata": {},
   "source": [
    "# Week 4 Class (with answers)\n",
    "\n",
    "1. Rewrite the merge sort code, adding assertions to check that the loop invariant is satisfied.\n",
    "2. Write code to sum the value in an array. Find a loop invariant for your code, and use it to prove that your code correctly sums those values."
   ]
  }
 ],
 "metadata": {
  "kernelspec": {
   "display_name": "Python 3",
   "language": "python",
   "name": "python3"
  },
  "language_info": {
   "codemirror_mode": {
    "name": "ipython",
    "version": 3
   },
   "file_extension": ".py",
   "mimetype": "text/x-python",
   "name": "python",
   "nbconvert_exporter": "python",
   "pygments_lexer": "ipython3",
   "version": "3.9.2"
  }
 },
 "nbformat": 4,
 "nbformat_minor": 5
}
