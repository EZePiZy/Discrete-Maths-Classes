{
 "cells": [
  {
   "cell_type": "code",
   "execution_count": 82,
   "id": "6176074a",
   "metadata": {},
   "outputs": [],
   "source": [
    "import itertools"
   ]
  },
  {
   "cell_type": "markdown",
   "id": "fee8644f",
   "metadata": {},
   "source": [
    "# Week 4 Class (with answers)\n",
    "\n",
    "1. Rewrite the merge sort code, adding assertions to check that the loop invariant is satisfied.\n",
    "2. Write code to sum the value in an array. Find a loop invariant for your code, and use it to prove that your code correctly sums those values."
   ]
  },
  {
   "cell_type": "code",
   "execution_count": 144,
   "id": "28fd3889",
   "metadata": {},
   "outputs": [],
   "source": [
    "def mergesort(X):\n",
    "    if len(X) <= 1:\n",
    "        return X\n",
    "    mid = len(X) // 2\n",
    "    L = mergesort(X[:mid])\n",
    "    R = mergesort(X[mid:])\n",
    "    out = []\n",
    "    # Asserting property 1: \n",
    "    assert all(out[i] <= out[i+1] for i in range(len(out) - 1)), 'Property 1: Out is not SORTED'\n",
    "\n",
    "    i = j = 0 \n",
    "    k = len(X)\n",
    "    \n",
    "\n",
    "    while i < len(L) or j < len(R):\n",
    "                    \n",
    "            if i == len(L):\n",
    "                out.append(R[j])\n",
    "                j += 1 \n",
    "            elif j == len(R):\n",
    "                out.append(L[i])\n",
    "                i += 1 \n",
    "            else:\n",
    "                l = L[i]\n",
    "                r = R[j]\n",
    "\n",
    "                if l < r:\n",
    "                    out.append(L[i])\n",
    "                    i += 1 \n",
    "                else:\n",
    "                    out.append(R[j])\n",
    "                    j += 1 \n",
    "\n",
    "    # Asserting property 2: \n",
    "    for s in range(len(out)):\n",
    "        for t in range(len(R[j:])):\n",
    "            assert out[s] < R[t],'Property 2a: All items in out are NOT smaller than all remaining in R'\n",
    "    for u in range(len(out)):\n",
    "        for v in range(len(L[i:])):\n",
    "            assert out[u] < R[v],'Property 2a: All items in out are NOT smaller than all remaining in R'\n",
    "        \n",
    "    return out "
   ]
  },
  {
   "cell_type": "code",
   "execution_count": 146,
   "id": "3b73e3bd",
   "metadata": {},
   "outputs": [
    {
     "name": "stdout",
     "output_type": "stream",
     "text": [
      "[1, 2, 3, 4, 5, 6, 7, 8]\n"
     ]
    }
   ],
   "source": [
    "lst = [6, 5, 3, 1, 8, 7, 2, 4]\n",
    "print(mergesort(lst))"
   ]
  },
  {
   "cell_type": "code",
   "execution_count": 155,
   "id": "6f13a98c",
   "metadata": {},
   "outputs": [],
   "source": [
    "def sum_invariants(X):\n",
    "    S = 0 \n",
    "    for i in range(len(X)):\n",
    "        assert S == sum(X[:i]), 'Property 1: Sum (S) is NOT EQUAL to the sum of the first i items.'\n",
    "        S += X[i]\n",
    "    return S "
   ]
  },
  {
   "cell_type": "code",
   "execution_count": 156,
   "id": "c3b8aa1c",
   "metadata": {},
   "outputs": [
    {
     "data": {
      "text/plain": [
       "36"
      ]
     },
     "execution_count": 156,
     "metadata": {},
     "output_type": "execute_result"
    }
   ],
   "source": [
    "sum_invariants(lst)"
   ]
  },
  {
   "cell_type": "markdown",
   "id": "2b15602c",
   "metadata": {},
   "source": [
    "## PROOF: \n",
    "\n",
    "The invariant is at the start of the loop and checks if *S* = $\\sum_{j = 1}^{i-1} X$<sub>j</sub>$ $. \n",
    "\n",
    "### **Initialisation**: \"Is it true at the beginning?\"\n",
    "* Yes, *S* = 0 as there are no items to sum. \n",
    "### **Maintenance**: \"Is the state maintained?\"\n",
    "* Yes, as it is true at the start of the loop; it will be true at the start of the next loop: \n",
    "$\\sum_{j = 0}^{i-1} X$<sub>j</sub>$ + X$<sub>i</sub>$  $ = $\\sum_{j = 0}^{(i+1) - 1} X$<sub>j</sub>$ $.\n",
    "### **Termination**: \"Is it true at the end of the loop?\"\n",
    "* Yes, the loop finishes successfully. Thus, the sum is performed correctly. \n",
    "\n",
    "\n",
    "**Property 1**: *S* = $\\sum_{j = 0}^{i-1} X$<sub>j</sub>$ $ \n",
    "Translated: *S* has to be equal to the sum of the first i items.\n"
   ]
  }
 ],
 "metadata": {
  "kernelspec": {
   "display_name": "Python 3.10.6 ('Imperial_Signals_Systems')",
   "language": "python",
   "name": "python3"
  },
  "language_info": {
   "codemirror_mode": {
    "name": "ipython",
    "version": 3
   },
   "file_extension": ".py",
   "mimetype": "text/x-python",
   "name": "python",
   "nbconvert_exporter": "python",
   "pygments_lexer": "ipython3",
   "version": "3.10.6"
  },
  "vscode": {
   "interpreter": {
    "hash": "34c76159c9d90541ca684fa006432c5d5b98e57bc9a54928f8137cf13864b77b"
   }
  }
 },
 "nbformat": 4,
 "nbformat_minor": 5
}
