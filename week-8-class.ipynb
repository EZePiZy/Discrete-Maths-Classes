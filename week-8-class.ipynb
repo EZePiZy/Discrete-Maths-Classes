{
 "cells": [
  {
   "cell_type": "markdown",
   "metadata": {},
   "source": [
    "## Q1. Write pseudocode for a parallel version of merge sort using a serial merge step. Compute the span and parallelism of your code. How useful is this code?\n",
    "\n",
    "You may assume that the work is unchanged, $O(n\\log n)$"
   ]
  },
  {
   "cell_type": "markdown",
   "metadata": {},
   "source": [
    "## Q2. Write pseudocode for a parallel merge step, using the hints below. Compute its span.\n",
    "\n",
    "If you're merging L and R, find the midpoint value x of L, and divide L and R into halves which are less than or greater than x. Use an efficient (serial) algorithm to find the midpoint of R. Find an upper bound of the span of the two spawned merge steps.\n",
    "\n",
    "![](parallel-merge-hint.png)\n",
    "\n",
    "<div class=\"alert alert-block alert-info\">\n",
    "You may want to use the following variant of the master method:\n",
    "\n",
    "If $T(n)=aT(n/b)+f(n)$ and $f(n)=\\Theta(n^{\\log_b a}(\\log n)^k)$ then $T(n)=\\Theta(n^{\\log_b a}(\\log n)^{k+1})$.\n",
    "</div>"
   ]
  },
  {
   "cell_type": "markdown",
   "metadata": {},
   "source": [
    "## Q3. Write pseudocode for a fully parallel merge sort, and compute its span and parallelism. How useful is this code?\n",
    "\n",
    "You may again assume the work is $O(n\\log n)$."
   ]
  },
  {
   "cell_type": "markdown",
   "metadata": {},
   "source": [
    "## Q4 (optional). Write code to implement this and verify that it works.\n",
    "\n",
    "You don't need to actually use multiple processors, just verify that the code works."
   ]
  }
 ],
 "metadata": {
  "kernelspec": {
   "display_name": "Python 3",
   "language": "python",
   "name": "python3"
  },
  "language_info": {
   "codemirror_mode": {
    "name": "ipython",
    "version": 3
   },
   "file_extension": ".py",
   "mimetype": "text/x-python",
   "name": "python",
   "nbconvert_exporter": "python",
   "pygments_lexer": "ipython3",
   "version": "3.7.8"
  }
 },
 "nbformat": 4,
 "nbformat_minor": 4
}
