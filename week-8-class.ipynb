{
 "cells": [
  {
   "cell_type": "markdown",
   "metadata": {},
   "source": [
    "## Q1. Write pseudocode for a parallel version of merge sort using a serial merge step. Compute the span and parallelism of your code. How useful is this code?\n",
    "\n",
    "You may assume that the work is unchanged, $O(n\\log n)$"
   ]
  },
  {
   "cell_type": "code",
   "execution_count": 2,
   "metadata": {},
   "outputs": [
    {
     "ename": "SyntaxError",
     "evalue": "invalid syntax (1737258848.py, line 5)",
     "output_type": "error",
     "traceback": [
      "\u001b[1;36m  Cell \u001b[1;32mIn [2], line 5\u001b[1;36m\u001b[0m\n\u001b[1;33m    spawn L = mergesort(X[:mid])\u001b[0m\n\u001b[1;37m          ^\u001b[0m\n\u001b[1;31mSyntaxError\u001b[0m\u001b[1;31m:\u001b[0m invalid syntax\n"
     ]
    }
   ],
   "source": [
    "def mergesort(X):\n",
    "    if len(X) <= 1:\n",
    "        return X\n",
    "    mid = len(X) // 2\n",
    "    spawn L = mergesort(X[:mid])\n",
    "    spawn R = mergesort(X[mid:])\n",
    "    sync \n",
    "\n",
    "    out = []\n",
    "    i = j = 0\n",
    "\n",
    "    while i < len(L) or j < len(R):\n",
    "        if i == len(L):\n",
    "            out.append(R[j])\n",
    "            j += 1\n",
    "        elif j == len(R):\n",
    "            out.append(L[i])\n",
    "            i += 1\n",
    "        else: \n",
    "            l = L[i]\n",
    "            r = R[j]\n",
    "\n",
    "            if l < r:\n",
    "                out.append(L[i])\n",
    "                i += 1\n",
    "            else: \n",
    "                out.append(R[j])\n",
    "                j += 1\n",
    "\n",
    "    return out\n",
    "\n",
    "\n"
   ]
  },
  {
   "attachments": {},
   "cell_type": "markdown",
   "metadata": {},
   "source": [
    "### <ins>Span:\n",
    " T<sub>*infinity*</sub>(n)  = O(n) [while loop] + O(log<sub>2</sub>(n)) = **O(n)**\n",
    "\n",
    " **OR** by the <ins>Master Method </ins>:\n",
    "\n",
    " T<sub>*infinity*</sub>(n) = a * T(n/b) + O(n<sup>d</sup>)\n",
    "\n",
    "$$\\begin{cases} \n",
    "a= 1\\\\\n",
    "b = 2\\\\\n",
    "d = 1\n",
    "\\end{cases}$$\n",
    "\n",
    "&rarr; T<sub>*infinity*</sub>(n) = O(n<sup>d</sup>) =  O(n<sup>1</sup>) = **O(n)**\n",
    "\n",
    "### <ins>Parallelism: \n",
    "* T<sub>1</sub> = $O(n\\log n)$\n",
    "* T<sub>*infinity*</sub> = $O(n)$\n",
    "\n",
    "&rarr;  T<sub>1</sub> / T<sub>*infinity*</sub> = \n",
    "$\\Theta(n\\log n / n)$ = **$\\Theta(\\log n)$**\n",
    "\n",
    "### <ins>Useful? \n",
    "Yes, this code is very useful as it decreases the complexity of the mergesort algorithm from $O(n\\log n)$ to $O(\\log n)$ which makes a huge difference. \n"
   ]
  },
  {
   "cell_type": "markdown",
   "metadata": {},
   "source": [
    "## Q2. Write pseudocode for a parallel merge step, using the hints below. Compute its span.\n",
    "\n",
    "If you're merging L and R, find the midpoint value x of L, and divide L and R into halves which are less than or greater than x. Use an efficient (serial) algorithm to find the midpoint of R. Find an upper bound of the span of the two spawned merge steps.\n",
    "\n",
    "![](parallel-merge-hint.png)\n",
    "\n",
    "<div class=\"alert alert-block alert-info\">\n",
    "You may want to use the following variant of the master method:\n",
    "\n",
    "If $T(n)=aT(n/b)+f(n)$ and $f(n)=\\Theta(n^{\\log_b a}(\\log n)^k)$ then $T(n)=\\Theta(n^{\\log_b a}(\\log n)^{k+1})$.\n",
    "</div>"
   ]
  },
  {
   "attachments": {},
   "cell_type": "markdown",
   "metadata": {},
   "source": [
    "Use Binary Search to find the midpoint (index = m) of the L and R arrays when merging (lenght of L is bigger or equal than R). We take the number at L[m] and fit into R at index q where R[q - 1] > L[m]. We can do this recursively and the complexity of this operation would be log(n). "
   ]
  },
  {
   "cell_type": "markdown",
   "metadata": {},
   "source": [
    "## Q3. Write pseudocode for a fully parallel merge sort, and compute its span and parallelism. How useful is this code?\n",
    "\n",
    "You may again assume the work is $O(n\\log n)$."
   ]
  },
  {
   "cell_type": "markdown",
   "metadata": {},
   "source": [
    "## Q4 (optional). Write code to implement this and verify that it works.\n",
    "\n",
    "You don't need to actually use multiple processors, just verify that the code works."
   ]
  }
 ],
 "metadata": {
  "kernelspec": {
   "display_name": "base",
   "language": "python",
   "name": "python3"
  },
  "language_info": {
   "codemirror_mode": {
    "name": "ipython",
    "version": 3
   },
   "file_extension": ".py",
   "mimetype": "text/x-python",
   "name": "python",
   "nbconvert_exporter": "python",
   "pygments_lexer": "ipython3",
   "version": "3.9.12"
  },
  "vscode": {
   "interpreter": {
    "hash": "d30db3b5a95632a73494f2c4693ac889dfdb68f02569eeeacc3df3c7ca01708b"
   }
  }
 },
 "nbformat": 4,
 "nbformat_minor": 4
}
